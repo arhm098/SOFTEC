{
 "cells": [
  {
   "cell_type": "code",
   "execution_count": 28,
   "metadata": {},
   "outputs": [],
   "source": [
    "import pandas as pd\n",
    "import numpy as np"
   ]
  },
  {
   "cell_type": "code",
   "execution_count": 29,
   "metadata": {},
   "outputs": [],
   "source": [
    "df = pd.read_csv(r'Softec_Patient_Data_Training_Kaggle_V1_cleaned_final_v1.csv')"
   ]
  },
  {
   "cell_type": "code",
   "execution_count": 30,
   "metadata": {},
   "outputs": [],
   "source": [
    "df_race = pd.read_csv(r'high-cost-diabetes-patients-prediction/Softec_Patient_Data_Training_Kaggle_V1.csv')"
   ]
  },
  {
   "cell_type": "code",
   "execution_count": 36,
   "metadata": {},
   "outputs": [],
   "source": [
    "from sklearn.preprocessing import LabelEncoder\n",
    "categorical_cols = df_race.select_dtypes(include='object').columns\n",
    "\n",
    "# Initialize LabelEncoder\n",
    "label_encoder = LabelEncoder()\n",
    "\n",
    "# Apply label encoding to all categorical columns\n",
    "for col in categorical_cols:\n",
    "    df_race[col + '_encoded'] = label_encoder.fit_transform(df_race[col])\n",
    "\n",
    "# Drop original categorical columns\n",
    "df_race.drop(categorical_cols, axis=1, inplace=True)\n",
    "df_race = df_race"
   ]
  },
  {
   "cell_type": "code",
   "execution_count": 37,
   "metadata": {},
   "outputs": [
    {
     "name": "stdout",
     "output_type": "stream",
     "text": [
      "<class 'pandas.core.frame.DataFrame'>\n",
      "RangeIndex: 16328 entries, 0 to 16327\n",
      "Data columns (total 43 columns):\n",
      " #   Column                       Non-Null Count  Dtype  \n",
      "---  ------                       --------------  -----  \n",
      " 0   ID                           16328 non-null  int64  \n",
      " 1   Age                          16328 non-null  int64  \n",
      " 2   Zip Code                     16328 non-null  int64  \n",
      " 3   Enrollment Type Categorized  16328 non-null  int64  \n",
      " 4   Enrollment Months            16328 non-null  float64\n",
      " 5   HCC Score                    16254 non-null  float64\n",
      " 6   Avg. LOS                     16328 non-null  float64\n",
      " 7   Diagnosis                    16328 non-null  int64  \n",
      " 8   # Total Claims               16328 non-null  int64  \n",
      " 9   # Hospital OP                16328 non-null  int64  \n",
      " 10  # All Physician OP           16328 non-null  int64  \n",
      " 11  # Inpatient                  15947 non-null  float64\n",
      " 12  # Short Term Stay Hospital   16328 non-null  int64  \n",
      " 13  # Long Term Stay Hospital    16328 non-null  int64  \n",
      " 14  # Rehabilitation Hospital    16328 non-null  int64  \n",
      " 15  # Psychiatric Hospital       16328 non-null  int64  \n",
      " 16  # Readmissions               16056 non-null  float64\n",
      " 17  % Readmissions               16328 non-null  float64\n",
      " 18  # ER                         16328 non-null  int64  \n",
      " 19  # ER Admissions              16328 non-null  int64  \n",
      " 20  # SNF                        16328 non-null  int64  \n",
      " 21  # Non Swing Bed SNF Claim    16328 non-null  int64  \n",
      " 22  # Swing Bed SNF Claim        16328 non-null  int64  \n",
      " 23  # Home Health                16328 non-null  int64  \n",
      " 24  # Hospice                    16328 non-null  int64  \n",
      " 25  # Labs                       16328 non-null  int64  \n",
      " 26  # Part B Labs                16210 non-null  float64\n",
      " 27  # Imaging                    16328 non-null  int64  \n",
      " 28  # Part B Imaging             16328 non-null  int64  \n",
      " 29  # Part B E&M                 16255 non-null  float64\n",
      " 30  # Part B Drugs               16328 non-null  int64  \n",
      " 31  # Part B Ambulance           16328 non-null  int64  \n",
      " 32  # Dialysis                   16328 non-null  int64  \n",
      " 33  # Part-B Dialysis            15533 non-null  float64\n",
      " 34  # Rx Claims                  16328 non-null  int64  \n",
      " 35  # DME                        16328 non-null  int64  \n",
      " 36  # Miscellaneous              16328 non-null  int64  \n",
      " 37  TotalCost_Y_Actual           16328 non-null  float64\n",
      " 38  TotalCost_Y_Expected         16328 non-null  float64\n",
      " 39  Race_encoded                 16328 non-null  int32  \n",
      " 40  Sex_encoded                  16328 non-null  int32  \n",
      " 41  State_encoded                16328 non-null  int32  \n",
      " 42  MSA_encoded                  16328 non-null  int32  \n",
      "dtypes: float64(11), int32(4), int64(28)\n",
      "memory usage: 5.1 MB\n"
     ]
    }
   ],
   "source": [
    "df_race.info()"
   ]
  },
  {
   "cell_type": "code",
   "execution_count": 38,
   "metadata": {},
   "outputs": [],
   "source": [
    "df['Race_encoded'] = df_race['Race_encoded']"
   ]
  },
  {
   "cell_type": "code",
   "execution_count": 42,
   "metadata": {},
   "outputs": [
    {
     "data": {
      "image/png": "[encoded data removed]",
      "text/plain": [
       "<Figure size 640x480 with 1 Axes>"
      ]
     },
     "metadata": {},
     "output_type": "display_data"
    }
   ],
   "source": [
    "from imblearn.over_sampling import RandomOverSampler\n",
    "\n",
    "#ros = RandomOverSampler(sampling_strategy=1) # Float\n",
    "ros = RandomOverSampler(sampling_strategy=\"not majority\") # String\n",
    "X_res, y_res = ros.fit_resample(df.drop('Y',axis=1), df['Y'])\n",
    "df = X_res\n",
    "df['Y'] = y_res\n",
    "ax = y_res.value_counts().plot.pie(autopct='%.2f')\n",
    "_ = ax.set_title(\"Over-sampling\")"
   ]
  },
  {
   "cell_type": "code",
   "execution_count": 24,
   "metadata": {},
   "outputs": [
    {
     "data": {
      "text/plain": [
       "0    12200\n",
       "1     4128\n",
       "Name: Y, dtype: int64"
      ]
     },
     "execution_count": 24,
     "metadata": {},
     "output_type": "execute_result"
    }
   ],
   "source": [
    "df['Y'].value_counts()"
   ]
  },
  {
   "cell_type": "code",
   "execution_count": 33,
   "metadata": {},
   "outputs": [],
   "source": [
    "# Race_Asian                               16328 non-null  int64  \n",
    "#  41  Race_Black                               16328 non-null  int64  \n",
    "#  42  Race_Hispanic                            16328 non-null  int64  \n",
    "#  43  Race_North American Native               16328 non-null  int64  \n",
    "#  44  Race_Other Race                          16328 non-null  int64  \n",
    "#  45  Race_UnKnown                             16328 non-null  int64  \n",
    "#  46  Race_White \n",
    "df.drop(['Race_Black','Race_Hispanic','Race_North American Native','Race_Other Race','Race_UnKnown','Race_White'],axis=1,inplace=True)"
   ]
  },
  {
   "cell_type": "code",
   "execution_count": null,
   "metadata": {},
   "outputs": [],
   "source": []
  },
  {
   "cell_type": "code",
   "execution_count": 39,
   "metadata": {},
   "outputs": [
    {
     "name": "stdout",
     "output_type": "stream",
     "text": [
      "<class 'pandas.core.frame.DataFrame'>\n",
      "RangeIndex: 16328 entries, 0 to 16327\n",
      "Data columns (total 59 columns):\n",
      " #   Column                                   Non-Null Count  Dtype  \n",
      "---  ------                                   --------------  -----  \n",
      " 0   ID                                       16328 non-null  int64  \n",
      " 1   Age                                      16328 non-null  int64  \n",
      " 2   Sex                                      16328 non-null  int64  \n",
      " 3   Zip Code                                 16328 non-null  int64  \n",
      " 4   Enrollment Type Categorized              16328 non-null  int64  \n",
      " 5   Enrollment Months                        16328 non-null  float64\n",
      " 6   HCC Score                                16328 non-null  int64  \n",
      " 7   Avg. LOS                                 16328 non-null  float64\n",
      " 8   Diagnosis                                16328 non-null  int64  \n",
      " 9   # Total Claims                           16328 non-null  int64  \n",
      " 10  # Hospital OP                            16328 non-null  int64  \n",
      " 11  # All Physician OP                       16328 non-null  int64  \n",
      " 12  # Inpatient                              16328 non-null  float64\n",
      " 13  # Short Term Stay Hospital               16328 non-null  int64  \n",
      " 14  # Long Term Stay Hospital                16328 non-null  int64  \n",
      " 15  # Rehabilitation Hospital                16328 non-null  int64  \n",
      " 16  # Psychiatric Hospital                   16328 non-null  int64  \n",
      " 17  # Readmissions                           16328 non-null  float64\n",
      " 18  % Readmissions                           16328 non-null  float64\n",
      " 19  # ER                                     16328 non-null  int64  \n",
      " 20  # ER Admissions                          16328 non-null  int64  \n",
      " 21  # SNF                                    16328 non-null  int64  \n",
      " 22  # Non Swing Bed SNF Claim                16328 non-null  int64  \n",
      " 23  # Swing Bed SNF Claim                    16328 non-null  int64  \n",
      " 24  # Home Health                            16328 non-null  int64  \n",
      " 25  # Hospice                                16328 non-null  int64  \n",
      " 26  # Labs                                   16328 non-null  int64  \n",
      " 27  # Part B Labs                            16328 non-null  float64\n",
      " 28  # Imaging                                16328 non-null  int64  \n",
      " 29  # Part B Imaging                         16328 non-null  int64  \n",
      " 30  # Part B E&M                             16328 non-null  float64\n",
      " 31  # Part B Drugs                           16328 non-null  int64  \n",
      " 32  # Part B Ambulance                       16328 non-null  int64  \n",
      " 33  # Dialysis                               16328 non-null  int64  \n",
      " 34  # Part-B Dialysis                        16328 non-null  float64\n",
      " 35  # Rx Claims                              16328 non-null  int64  \n",
      " 36  # DME                                    16328 non-null  int64  \n",
      " 37  # Miscellaneous                          16328 non-null  int64  \n",
      " 38  TotalCost_Y_Actual                       16328 non-null  float64\n",
      " 39  TotalCost_Y_Expected                     16328 non-null  float64\n",
      " 40  Race_Asian                               16328 non-null  int64  \n",
      " 41  Y                                        16328 non-null  int64  \n",
      " 42  dapagliflozin                            16328 non-null  int64  \n",
      " 43  exenatide                                16328 non-null  int64  \n",
      " 44  glimepiride                              16328 non-null  int64  \n",
      " 45  glyburide and metformin hydrochloride    16328 non-null  int64  \n",
      " 46  insulin                                  16328 non-null  int64  \n",
      " 47  metformin hydrochloride                  16328 non-null  int64  \n",
      " 48  pioglitazone                             16328 non-null  int64  \n",
      " 49  sitagliptin and metformin hydrochloride  16328 non-null  int64  \n",
      " 50  Avg ADI                                  16328 non-null  float64\n",
      " 51  Max ADI                                  16328 non-null  float64\n",
      " 52  Min ADI                                  16328 non-null  float64\n",
      " 53  SVI1                                     16328 non-null  float64\n",
      " 54  SVI3                                     16328 non-null  float64\n",
      " 55  SVI4                                     16328 non-null  float64\n",
      " 56  SVI                                      16328 non-null  float64\n",
      " 57  MDI                                      16328 non-null  float64\n",
      " 58  Race_encoded                             16328 non-null  int32  \n",
      "dtypes: float64(18), int32(1), int64(40)\n",
      "memory usage: 7.3 MB\n"
     ]
    }
   ],
   "source": [
    "df.info()"
   ]
  },
  {
   "cell_type": "code",
   "execution_count": 7,
   "metadata": {},
   "outputs": [
    {
     "data": {
      "text/plain": [
       "75.333333    801\n",
       "84.600000    566\n",
       "75.354839    520\n",
       "61.482759    492\n",
       "71.838710    397\n",
       "            ... \n",
       "59.000000      1\n",
       "63.080000      1\n",
       "58.071429      1\n",
       "32.222222      1\n",
       "89.400000      1\n",
       "Name: Avg ADI, Length: 497, dtype: int64"
      ]
     },
     "execution_count": 7,
     "metadata": {},
     "output_type": "execute_result"
    }
   ],
   "source": [
    "df['Avg ADI'].value_counts()"
   ]
  },
  {
   "cell_type": "code",
   "execution_count": 8,
   "metadata": {},
   "outputs": [],
   "source": [
    "df['Avg ADI'].fillna(df['Avg ADI'].mean(),inplace=True)"
   ]
  },
  {
   "cell_type": "code",
   "execution_count": 9,
   "metadata": {},
   "outputs": [],
   "source": [
    "df['Max ADI'].fillna(df['Max ADI'].mean(),inplace=True)"
   ]
  },
  {
   "cell_type": "code",
   "execution_count": 10,
   "metadata": {},
   "outputs": [],
   "source": [
    "df['Min ADI'].fillna(df['Min ADI'].mean(),inplace=True)"
   ]
  },
  {
   "cell_type": "code",
   "execution_count": 11,
   "metadata": {},
   "outputs": [],
   "source": [
    "#  59  SVI1                                    \n",
    "#  60  SVI3                                    \n",
    "#  61  SVI4"
   ]
  },
  {
   "cell_type": "code",
   "execution_count": 12,
   "metadata": {},
   "outputs": [
    {
     "data": {
      "text/plain": [
       "-35.236656    2483\n",
       " 0.281248     1941\n",
       "-20.122837    1650\n",
       "-14.360588    1265\n",
       "-16.845823    1251\n",
       "              ... \n",
       "-13.124560       1\n",
       " 0.625567        1\n",
       " 0.537937        1\n",
       " 0.504070        1\n",
       " 0.585560        1\n",
       "Name: SVI1, Length: 111, dtype: int64"
      ]
     },
     "execution_count": 12,
     "metadata": {},
     "output_type": "execute_result"
    }
   ],
   "source": [
    "df['SVI1'].value_counts()"
   ]
  },
  {
   "cell_type": "code",
   "execution_count": 13,
   "metadata": {},
   "outputs": [],
   "source": [
    "df['SVI1'].fillna(df['SVI1'].mean(),inplace=True)\n",
    "df['SVI3'].fillna(df['SVI3'].mean(),inplace=True)\n",
    "df['SVI4'].fillna(df['SVI4'].mean(),inplace=True)"
   ]
  },
  {
   "cell_type": "code",
   "execution_count": 14,
   "metadata": {},
   "outputs": [
    {
     "data": {
      "text/plain": [
       "-94.703669    2483\n",
       " 0.375466     1941\n",
       "-28.376737    1650\n",
       "-14.387013    1265\n",
       "-19.696800    1251\n",
       "              ... \n",
       "-13.104508       1\n",
       " 0.524300        1\n",
       " 0.529600        1\n",
       " 0.502500        1\n",
       " 0.642560        1\n",
       "Name: SVI, Length: 111, dtype: int64"
      ]
     },
     "execution_count": 14,
     "metadata": {},
     "output_type": "execute_result"
    }
   ],
   "source": [
    "df['SVI'].value_counts()"
   ]
  },
  {
   "attachments": {},
   "cell_type": "markdown",
   "metadata": {},
   "source": []
  },
  {
   "cell_type": "code",
   "execution_count": 15,
   "metadata": {},
   "outputs": [],
   "source": [
    "df['SVI'].fillna(df['SVI'].mean(),inplace=True)\n"
   ]
  },
  {
   "cell_type": "code",
   "execution_count": 16,
   "metadata": {},
   "outputs": [
    {
     "data": {
      "text/plain": [
       "14.16    12954\n",
       "15.39     2845\n",
       "14.69      287\n",
       "15.86       30\n",
       "14.81       11\n",
       "22.05        7\n",
       "20.80        6\n",
       "13.73        5\n",
       "18.81        4\n",
       "10.22        4\n",
       "12.30        4\n",
       "18.80        2\n",
       "10.34        2\n",
       "14.93        2\n",
       "12.70        2\n",
       "13.98        2\n",
       "16.60        2\n",
       "15.80        1\n",
       "24.32        1\n",
       "17.64        1\n",
       "24.58        1\n",
       "15.60        1\n",
       "12.82        1\n",
       "18.10        1\n",
       "14.59        1\n",
       "15.06        1\n",
       "15.71        1\n",
       "20.65        1\n",
       "Name: MDI, dtype: int64"
      ]
     },
     "execution_count": 16,
     "metadata": {},
     "output_type": "execute_result"
    }
   ],
   "source": [
    "df['MDI'].value_counts()"
   ]
  },
  {
   "cell_type": "code",
   "execution_count": 17,
   "metadata": {},
   "outputs": [],
   "source": [
    "df['MDI'].fillna(14.16,inplace=True)"
   ]
  },
  {
   "cell_type": "code",
   "execution_count": 43,
   "metadata": {},
   "outputs": [],
   "source": [
    "df.to_csv(r'Softec_Patient_Data_Training_Kaggle_V1_cleaned_final_v3_oversampled.csv',index=False)"
   ]
  },
  {
   "cell_type": "code",
   "execution_count": null,
   "metadata": {},
   "outputs": [],
   "source": []
  }
 ],
 "metadata": {
  "kernelspec": {
   "display_name": "Python 3",
   "language": "python",
   "name": "python3"
  },
  "language_info": {
   "codemirror_mode": {
    "name": "ipython",
    "version": 3
   },
   "file_extension": ".py",
   "mimetype": "text/x-python",
   "name": "python",
   "nbconvert_exporter": "python",
   "pygments_lexer": "ipython3",
   "version": "3.8.16"
  },
  "orig_nbformat": 4
 },
 "nbformat": 4,
 "nbformat_minor": 2
}
