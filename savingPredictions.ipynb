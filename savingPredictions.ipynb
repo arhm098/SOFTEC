{
 "cells": [
  {
   "cell_type": "code",
   "execution_count": 21,
   "metadata": {},
   "outputs": [],
   "source": [
    "import pandas as pd\n",
    "from sklearn.ensemble import RandomForestClassifier\n",
    "import numpy as np\n",
    "from sklearn.ensemble import RandomForestClassifier\n",
    "from sklearn.preprocessing import OneHotEncoder\n",
    "from sklearn.compose import ColumnTransformer\n",
    "import pandas as pd\n",
    "from sklearn.model_selection import train_test_split\n",
    "from sklearn.metrics import confusion_matrix, accuracy_score, precision_score, recall_score, f1_score"
   ]
  },
  {
   "cell_type": "code",
   "execution_count": 22,
   "metadata": {},
   "outputs": [],
   "source": [
    "df = pd.read_csv(r'Softec_Patient_Data_Training_Kaggle_V1_cleaned_final_v3_oversampled.csv')"
   ]
  },
  {
   "cell_type": "code",
   "execution_count": 9,
   "metadata": {},
   "outputs": [
    {
     "data": {
      "text/html": [
       "<style>#sk-container-id-1 {color: black;background-color: white;}#sk-container-id-1 pre{padding: 0;}#sk-container-id-1 div.sk-toggleable {background-color: white;}#sk-container-id-1 label.sk-toggleable__label {cursor: pointer;display: block;width: 100%;margin-bottom: 0;padding: 0.3em;box-sizing: border-box;text-align: center;}#sk-container-id-1 label.sk-toggleable__label-arrow:before {content: \"▸\";float: left;margin-right: 0.25em;color: #696969;}#sk-container-id-1 label.sk-toggleable__label-arrow:hover:before {color: black;}#sk-container-id-1 div.sk-estimator:hover label.sk-toggleable__label-arrow:before {color: black;}#sk-container-id-1 div.sk-toggleable__content {max-height: 0;max-width: 0;overflow: hidden;text-align: left;background-color: #f0f8ff;}#sk-container-id-1 div.sk-toggleable__content pre {margin: 0.2em;color: black;border-radius: 0.25em;background-color: #f0f8ff;}#sk-container-id-1 input.sk-toggleable__control:checked~div.sk-toggleable__content {max-height: 200px;max-width: 100%;overflow: auto;}#sk-container-id-1 input.sk-toggleable__control:checked~label.sk-toggleable__label-arrow:before {content: \"▾\";}#sk-container-id-1 div.sk-estimator input.sk-toggleable__control:checked~label.sk-toggleable__label {background-color: #d4ebff;}#sk-container-id-1 div.sk-label input.sk-toggleable__control:checked~label.sk-toggleable__label {background-color: #d4ebff;}#sk-container-id-1 input.sk-hidden--visually {border: 0;clip: rect(1px 1px 1px 1px);clip: rect(1px, 1px, 1px, 1px);height: 1px;margin: -1px;overflow: hidden;padding: 0;position: absolute;width: 1px;}#sk-container-id-1 div.sk-estimator {font-family: monospace;background-color: #f0f8ff;border: 1px dotted black;border-radius: 0.25em;box-sizing: border-box;margin-bottom: 0.5em;}#sk-container-id-1 div.sk-estimator:hover {background-color: #d4ebff;}#sk-container-id-1 div.sk-parallel-item::after {content: \"\";width: 100%;border-bottom: 1px solid gray;flex-grow: 1;}#sk-container-id-1 div.sk-label:hover label.sk-toggleable__label {background-color: #d4ebff;}#sk-container-id-1 div.sk-serial::before {content: \"\";position: absolute;border-left: 1px solid gray;box-sizing: border-box;top: 0;bottom: 0;left: 50%;z-index: 0;}#sk-container-id-1 div.sk-serial {display: flex;flex-direction: column;align-items: center;background-color: white;padding-right: 0.2em;padding-left: 0.2em;position: relative;}#sk-container-id-1 div.sk-item {position: relative;z-index: 1;}#sk-container-id-1 div.sk-parallel {display: flex;align-items: stretch;justify-content: center;background-color: white;position: relative;}#sk-container-id-1 div.sk-item::before, #sk-container-id-1 div.sk-parallel-item::before {content: \"\";position: absolute;border-left: 1px solid gray;box-sizing: border-box;top: 0;bottom: 0;left: 50%;z-index: -1;}#sk-container-id-1 div.sk-parallel-item {display: flex;flex-direction: column;z-index: 1;position: relative;background-color: white;}#sk-container-id-1 div.sk-parallel-item:first-child::after {align-self: flex-end;width: 50%;}#sk-container-id-1 div.sk-parallel-item:last-child::after {align-self: flex-start;width: 50%;}#sk-container-id-1 div.sk-parallel-item:only-child::after {width: 0;}#sk-container-id-1 div.sk-dashed-wrapped {border: 1px dashed gray;margin: 0 0.4em 0.5em 0.4em;box-sizing: border-box;padding-bottom: 0.4em;background-color: white;}#sk-container-id-1 div.sk-label label {font-family: monospace;font-weight: bold;display: inline-block;line-height: 1.2em;}#sk-container-id-1 div.sk-label-container {text-align: center;}#sk-container-id-1 div.sk-container {/* jupyter's `normalize.less` sets `[hidden] { display: none; }` but bootstrap.min.css set `[hidden] { display: none !important; }` so we also need the `!important` here to be able to override the default hidden behavior on the sphinx rendered scikit-learn.org. See: https://github.com/scikit-learn/scikit-learn/issues/21755 */display: inline-block !important;position: relative;}#sk-container-id-1 div.sk-text-repr-fallback {display: none;}</style><div id=\"sk-container-id-1\" class=\"sk-top-container\"><div class=\"sk-text-repr-fallback\"><pre>RandomForestClassifier(n_estimators=50)</pre><b>In a Jupyter environment, please rerun this cell to show the HTML representation or trust the notebook. <br />On GitHub, the HTML representation is unable to render, please try loading this page with nbviewer.org.</b></div><div class=\"sk-container\" hidden><div class=\"sk-item\"><div class=\"sk-estimator sk-toggleable\"><input class=\"sk-toggleable__control sk-hidden--visually\" id=\"sk-estimator-id-1\" type=\"checkbox\" checked><label for=\"sk-estimator-id-1\" class=\"sk-toggleable__label sk-toggleable__label-arrow\">RandomForestClassifier</label><div class=\"sk-toggleable__content\"><pre>RandomForestClassifier(n_estimators=50)</pre></div></div></div></div></div>"
      ],
      "text/plain": [
       "RandomForestClassifier(n_estimators=50)"
      ]
     },
     "execution_count": 9,
     "metadata": {},
     "output_type": "execute_result"
    }
   ],
   "source": [
    "\n",
    "# Initialize a Random Forest classifier with 100 trees\n",
    "rf = RandomForestClassifier(n_estimators=50)\n",
    "\n",
    "# Fit the classifier on the training set\n",
    "rf.fit(df.drop('Y',axis=1), df['Y'])\n"
   ]
  },
  {
   "attachments": {},
   "cell_type": "markdown",
   "metadata": {},
   "source": [
    "# LOADING TESTING FEATURES"
   ]
  },
  {
   "cell_type": "code",
   "execution_count": 23,
   "metadata": {},
   "outputs": [],
   "source": [
    "df_test = pd.read_csv(r'Softec_Patient_Data_Testing_Features_cleaned.csv')"
   ]
  },
  {
   "cell_type": "code",
   "execution_count": 24,
   "metadata": {},
   "outputs": [
    {
     "name": "stdout",
     "output_type": "stream",
     "text": [
      "<class 'pandas.core.frame.DataFrame'>\n",
      "RangeIndex: 24400 entries, 0 to 24399\n",
      "Data columns (total 55 columns):\n",
      " #   Column                                   Non-Null Count  Dtype  \n",
      "---  ------                                   --------------  -----  \n",
      " 0   Age                                      24400 non-null  int64  \n",
      " 1   Sex                                      24400 non-null  int64  \n",
      " 2   Enrollment Type Categorized              24400 non-null  int64  \n",
      " 3   Enrollment Months                        24400 non-null  float64\n",
      " 4   HCC Score                                24400 non-null  int64  \n",
      " 5   Avg. LOS                                 24400 non-null  float64\n",
      " 6   Diagnosis                                24400 non-null  int64  \n",
      " 7   # Total Claims                           24400 non-null  int64  \n",
      " 8   # Hospital OP                            24400 non-null  int64  \n",
      " 9   # All Physician OP                       24400 non-null  int64  \n",
      " 10  # Inpatient                              24400 non-null  int64  \n",
      " 11  # Short Term Stay Hospital               24400 non-null  int64  \n",
      " 12  # Rehabilitation Hospital                24400 non-null  int64  \n",
      " 13  # Psychiatric Hospital                   24400 non-null  int64  \n",
      " 14  # Readmissions                           24400 non-null  int64  \n",
      " 15  % Readmissions                           24400 non-null  float64\n",
      " 16  # ER                                     24400 non-null  int64  \n",
      " 17  # ER Admissions                          24400 non-null  int64  \n",
      " 18  # SNF                                    24400 non-null  int64  \n",
      " 19  # Swing Bed SNF Claim                    24400 non-null  int64  \n",
      " 20  # Home Health                            24400 non-null  int64  \n",
      " 21  # Hospice                                24400 non-null  int64  \n",
      " 22  # Labs                                   24400 non-null  int64  \n",
      " 23  # Part B Labs                            24400 non-null  int64  \n",
      " 24  # Imaging                                24400 non-null  int64  \n",
      " 25  # Part B Imaging                         24400 non-null  int64  \n",
      " 26  # Part B E&M                             24400 non-null  int64  \n",
      " 27  # Part B Drugs                           24400 non-null  int64  \n",
      " 28  # Part B Ambulance                       24400 non-null  int64  \n",
      " 29  # Dialysis                               24400 non-null  int64  \n",
      " 30  # Part-B Dialysis                        24400 non-null  int64  \n",
      " 31  # Rx Claims                              24400 non-null  int64  \n",
      " 32  # DME                                    24400 non-null  int64  \n",
      " 33  # Miscellaneous                          24400 non-null  int64  \n",
      " 34  TotalCost_Y_Actual                       24400 non-null  float64\n",
      " 35  TotalCost_Y_Expected                     24400 non-null  float64\n",
      " 36  Race_Asian                               24400 non-null  int64  \n",
      " 37  dapagliflozin                            24400 non-null  int64  \n",
      " 38  exenatide                                24400 non-null  int64  \n",
      " 39  glimepiride                              24400 non-null  int64  \n",
      " 40  glyburide and metformin hydrochloride    24400 non-null  int64  \n",
      " 41  insulin                                  24400 non-null  int64  \n",
      " 42  metformin hydrochloride                  24400 non-null  int64  \n",
      " 43  pioglitazone                             24400 non-null  int64  \n",
      " 44  sitagliptin and metformin hydrochloride  24400 non-null  int64  \n",
      " 45  Avg ADI                                  24400 non-null  float64\n",
      " 46  Max ADI                                  24400 non-null  float64\n",
      " 47  Min ADI                                  24400 non-null  float64\n",
      " 48  SVI1                                     24400 non-null  float64\n",
      " 49  SVI3                                     24400 non-null  float64\n",
      " 50  SVI4                                     24400 non-null  float64\n",
      " 51  SVI                                      24400 non-null  float64\n",
      " 52  MDI                                      24400 non-null  float64\n",
      " 53  Race_encoded                             24400 non-null  int64  \n",
      " 54  Y                                        24400 non-null  int64  \n",
      "dtypes: float64(13), int64(42)\n",
      "memory usage: 10.2 MB\n"
     ]
    }
   ],
   "source": [
    "df.info()"
   ]
  },
  {
   "cell_type": "code",
   "execution_count": 20,
   "metadata": {},
   "outputs": [
    {
     "name": "stdout",
     "output_type": "stream",
     "text": [
      "<class 'pandas.core.frame.DataFrame'>\n",
      "RangeIndex: 4084 entries, 0 to 4083\n",
      "Data columns (total 36 columns):\n",
      " #   Column                       Non-Null Count  Dtype  \n",
      "---  ------                       --------------  -----  \n",
      " 0   Age                          4084 non-null   int64  \n",
      " 1   Race                         4084 non-null   object \n",
      " 2   Sex                          4084 non-null   int64  \n",
      " 3   Enrollment Type Categorized  4084 non-null   int64  \n",
      " 4   Enrollment Months            4084 non-null   float64\n",
      " 5   HCC Score                    4084 non-null   int64  \n",
      " 6   Avg. LOS                     4084 non-null   float64\n",
      " 7   Diagnosis                    4084 non-null   int64  \n",
      " 8   # Total Claims               4084 non-null   int64  \n",
      " 9   # Hospital OP                4084 non-null   int64  \n",
      " 10  # All Physician OP           4084 non-null   int64  \n",
      " 11  # Inpatient                  4084 non-null   float64\n",
      " 12  # Short Term Stay Hospital   4084 non-null   int64  \n",
      " 13  # Long Term Stay Hospital    4084 non-null   int64  \n",
      " 14  # Rehabilitation Hospital    4084 non-null   int64  \n",
      " 15  # Psychiatric Hospital       4084 non-null   int64  \n",
      " 16  # Readmissions               4084 non-null   float64\n",
      " 17  % Readmissions               4084 non-null   float64\n",
      " 18  # ER                         4084 non-null   int64  \n",
      " 19  # ER Admissions              4084 non-null   int64  \n",
      " 20  # SNF                        4084 non-null   int64  \n",
      " 21  # Non Swing Bed SNF Claim    4084 non-null   int64  \n",
      " 22  # Home Health                4084 non-null   int64  \n",
      " 23  # Hospice                    4084 non-null   int64  \n",
      " 24  # Labs                       4084 non-null   int64  \n",
      " 25  # Part B Labs                4084 non-null   float64\n",
      " 26  # Imaging                    4084 non-null   int64  \n",
      " 27  # Part B Imaging             4084 non-null   int64  \n",
      " 28  # Part B E&M                 4084 non-null   float64\n",
      " 29  # Part B Drugs               4084 non-null   int64  \n",
      " 30  # Part B Ambulance           4084 non-null   int64  \n",
      " 31  # Dialysis                   4084 non-null   int64  \n",
      " 32  # Part-B Dialysis            4084 non-null   float64\n",
      " 33  # Rx Claims                  4084 non-null   int64  \n",
      " 34  # DME                        4084 non-null   int64  \n",
      " 35  # Miscellaneous              4084 non-null   int64  \n",
      "dtypes: float64(8), int64(27), object(1)\n",
      "memory usage: 1.1+ MB\n"
     ]
    }
   ],
   "source": [
    "df_test.info()"
   ]
  },
  {
   "cell_type": "code",
   "execution_count": 19,
   "metadata": {},
   "outputs": [],
   "source": [
    "df_test.drop([\"ID\",\"State\",\"# Non Swing Bed SNF Claim\",\"MSA\",\"Zip Code\"],axis=1,inplace=True)"
   ]
  }
 ],
 "metadata": {
  "kernelspec": {
   "display_name": "Python 3",
   "language": "python",
   "name": "python3"
  },
  "language_info": {
   "codemirror_mode": {
    "name": "ipython",
    "version": 3
   },
   "file_extension": ".py",
   "mimetype": "text/x-python",
   "name": "python",
   "nbconvert_exporter": "python",
   "pygments_lexer": "ipython3",
   "version": "3.8.16"
  },
  "orig_nbformat": 4
 },
 "nbformat": 4,
 "nbformat_minor": 2
}
