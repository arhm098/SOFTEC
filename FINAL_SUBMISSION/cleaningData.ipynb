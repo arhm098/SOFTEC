{
 "cells": [
  {
   "attachments": {},
   "cell_type": "markdown",
   "metadata": {},
   "source": [
    "# LOADING LIBRARIES"
   ]
  },
  {
   "cell_type": "code",
   "execution_count": 1,
   "metadata": {},
   "outputs": [],
   "source": [
    "import pandas as pd\n",
    "import numpy as np"
   ]
  },
  {
   "attachments": {},
   "cell_type": "markdown",
   "metadata": {},
   "source": [
    "# loading training and testing datasets"
   ]
  },
  {
   "cell_type": "code",
   "execution_count": 2,
   "metadata": {},
   "outputs": [],
   "source": [
    "df_train = pd.read_csv(r'high-cost-diabetes-patients-prediction\\Softec_Patient_Data_Training_Kaggle_V1.csv')"
   ]
  },
  {
   "cell_type": "code",
   "execution_count": 3,
   "metadata": {},
   "outputs": [],
   "source": [
    "df_test = pd.read_csv(r'high-cost-diabetes-patients-prediction\\Softec_Patient_Data_Testing_Features.csv')"
   ]
  },
  {
   "attachments": {},
   "cell_type": "markdown",
   "metadata": {},
   "source": [
    "# fixing NULLS and catagorizing Data according to requirments in both datasets"
   ]
  },
  {
   "cell_type": "code",
   "execution_count": 4,
   "metadata": {},
   "outputs": [],
   "source": [
    "df = df_train\n",
    "df['# Inpatient'].fillna(0.0,inplace=True)\n",
    "df['HCC Score'].fillna(df['HCC Score'].mean(),inplace=True)\n",
    "df['# Readmissions'].fillna(0.0,inplace=True)\n",
    "df['# Part B E&M'].fillna(0.0,inplace=True)\n",
    "df['# Part B Labs'].fillna(4.0,inplace=True)\n",
    "df['# Part-B Dialysis'].fillna(0.0,inplace=True)\n",
    "df['Y'] = np.where(df['TotalCost_Y_Actual'] > 11000, 0, 1)\n",
    "df['HCC Score'] = np.where(df['HCC Score'] < 1, 0, 1)\n",
    "df['Age'] = np.where(df['Age'] < 64, 0, 1)\n",
    "feature_names = df.columns.values.tolist()\n",
    "for feature_name in feature_names:\n",
    "    if '#' == feature_name[0]: \n",
    "        df[feature_name] = np.where( ((df[feature_name] > 3) & (df[feature_name] <= 6)), 3, df[feature_name])\n",
    "        df[feature_name] = np.where( ( (df[feature_name] > 6) & (df[feature_name] <= 13) ), 5,df[feature_name])\n",
    "        df[feature_name] = np.where(df[feature_name] > 13, 7,df[feature_name])\n",
    "df_train = df\n"
   ]
  },
  {
   "cell_type": "code",
   "execution_count": 5,
   "metadata": {},
   "outputs": [],
   "source": [
    "df = df_test\n",
    "df['# Inpatient'].fillna(0.0,inplace=True)\n",
    "df['HCC Score'].fillna(df['HCC Score'].mean(),inplace=True)\n",
    "df['# Readmissions'].fillna(0.0,inplace=True)\n",
    "df['# Part B E&M'].fillna(0.0,inplace=True)\n",
    "df['# Part B Labs'].fillna(4.0,inplace=True)\n",
    "df['# Part-B Dialysis'].fillna(0.0,inplace=True)\n",
    "# df['Y'] = np.where(df['TotalCost_Y_Actual'] > 11000, 0, 1)\n",
    "df['HCC Score'] = np.where(df['HCC Score'] < 1, 0, 1)\n",
    "df['Age'] = np.where(df['Age'] < 64, 0, 1)\n",
    "feature_names = df.columns.values.tolist()\n",
    "for feature_name in feature_names:\n",
    "    if '#' == feature_name[0]: \n",
    "        df[feature_name] = np.where( ((df[feature_name] > 3) & (df[feature_name] <= 6)), 3, df[feature_name])\n",
    "        df[feature_name] = np.where( ( (df[feature_name] > 6) & (df[feature_name] <= 13) ), 5,df[feature_name])\n",
    "        df[feature_name] = np.where(df[feature_name] > 13, 7,df[feature_name])\n",
    "df_test = df\n"
   ]
  },
  {
   "attachments": {},
   "cell_type": "markdown",
   "metadata": {},
   "source": [
    "# dropping demographic labels and expected cost "
   ]
  },
  {
   "cell_type": "code",
   "execution_count": 6,
   "metadata": {},
   "outputs": [],
   "source": [
    "df_train.drop(['TotalCost_Y_Actual','TotalCost_Y_Expected','ID','Zip Code','MSA'],axis=1,inplace=True)\n",
    "df_test.drop(['ID','Zip Code','MSA'],axis=1,inplace=True)\n"
   ]
  },
  {
   "attachments": {},
   "cell_type": "markdown",
   "metadata": {},
   "source": [
    "# label endcoding "
   ]
  },
  {
   "cell_type": "code",
   "execution_count": 7,
   "metadata": {},
   "outputs": [],
   "source": [
    "df_placeholder = df_train\n",
    "from sklearn.preprocessing import LabelEncoder\n",
    "categorical_cols = df_placeholder.select_dtypes(include='object').columns\n",
    "\n",
    "# Initialize LabelEncoder\n",
    "label_encoder = LabelEncoder()\n",
    "\n",
    "# Apply label encoding to all categorical columns in training\n",
    "for col in categorical_cols:\n",
    "    df_placeholder[col + '_encoded'] = label_encoder.fit_transform(df_placeholder[col])\n",
    "\n",
    "# Drop original categorical columns in training\n",
    "df_placeholder.drop(categorical_cols, axis=1, inplace=True)\n",
    "df_train = df_placeholder\n",
    "df_placeholder = df_test\n",
    "\n",
    "# Apply label encoding to all categorical columns in testing\n",
    "for col in categorical_cols:\n",
    "    df_placeholder[col + '_encoded'] = label_encoder.fit_transform(df_placeholder[col])\n",
    "\n",
    "# Drop original categorical columns in testing\n",
    "df_placeholder.drop(categorical_cols, axis=1, inplace=True)\n",
    "df_test = df_placeholder"
   ]
  },
  {
   "attachments": {},
   "cell_type": "markdown",
   "metadata": {},
   "source": [
    "# checking state of data sets"
   ]
  },
  {
   "cell_type": "code",
   "execution_count": 8,
   "metadata": {},
   "outputs": [
    {
     "name": "stdout",
     "output_type": "stream",
     "text": [
      "<class 'pandas.core.frame.DataFrame'>\n",
      "RangeIndex: 16328 entries, 0 to 16327\n",
      "Data columns (total 39 columns):\n",
      " #   Column                       Non-Null Count  Dtype  \n",
      "---  ------                       --------------  -----  \n",
      " 0   Age                          16328 non-null  int32  \n",
      " 1   Enrollment Type Categorized  16328 non-null  int64  \n",
      " 2   Enrollment Months            16328 non-null  float64\n",
      " 3   HCC Score                    16328 non-null  int32  \n",
      " 4   Avg. LOS                     16328 non-null  float64\n",
      " 5   Diagnosis                    16328 non-null  int64  \n",
      " 6   # Total Claims               16328 non-null  int64  \n",
      " 7   # Hospital OP                16328 non-null  int64  \n",
      " 8   # All Physician OP           16328 non-null  int64  \n",
      " 9   # Inpatient                  16328 non-null  float64\n",
      " 10  # Short Term Stay Hospital   16328 non-null  int64  \n",
      " 11  # Long Term Stay Hospital    16328 non-null  int64  \n",
      " 12  # Rehabilitation Hospital    16328 non-null  int64  \n",
      " 13  # Psychiatric Hospital       16328 non-null  int64  \n",
      " 14  # Readmissions               16328 non-null  float64\n",
      " 15  % Readmissions               16328 non-null  float64\n",
      " 16  # ER                         16328 non-null  int64  \n",
      " 17  # ER Admissions              16328 non-null  int64  \n",
      " 18  # SNF                        16328 non-null  int64  \n",
      " 19  # Non Swing Bed SNF Claim    16328 non-null  int64  \n",
      " 20  # Swing Bed SNF Claim        16328 non-null  int64  \n",
      " 21  # Home Health                16328 non-null  int64  \n",
      " 22  # Hospice                    16328 non-null  int64  \n",
      " 23  # Labs                       16328 non-null  int64  \n",
      " 24  # Part B Labs                16328 non-null  float64\n",
      " 25  # Imaging                    16328 non-null  int64  \n",
      " 26  # Part B Imaging             16328 non-null  int64  \n",
      " 27  # Part B E&M                 16328 non-null  float64\n",
      " 28  # Part B Drugs               16328 non-null  int64  \n",
      " 29  # Part B Ambulance           16328 non-null  int64  \n",
      " 30  # Dialysis                   16328 non-null  int64  \n",
      " 31  # Part-B Dialysis            16328 non-null  float64\n",
      " 32  # Rx Claims                  16328 non-null  int64  \n",
      " 33  # DME                        16328 non-null  int64  \n",
      " 34  # Miscellaneous              16328 non-null  int64  \n",
      " 35  Y                            16328 non-null  int32  \n",
      " 36  Race_encoded                 16328 non-null  int32  \n",
      " 37  Sex_encoded                  16328 non-null  int32  \n",
      " 38  State_encoded                16328 non-null  int32  \n",
      "dtypes: float64(8), int32(6), int64(25)\n",
      "memory usage: 4.5 MB\n"
     ]
    }
   ],
   "source": [
    "df_train.info()"
   ]
  },
  {
   "cell_type": "code",
   "execution_count": 9,
   "metadata": {},
   "outputs": [
    {
     "name": "stdout",
     "output_type": "stream",
     "text": [
      "<class 'pandas.core.frame.DataFrame'>\n",
      "RangeIndex: 4084 entries, 0 to 4083\n",
      "Data columns (total 38 columns):\n",
      " #   Column                       Non-Null Count  Dtype  \n",
      "---  ------                       --------------  -----  \n",
      " 0   Age                          4084 non-null   int32  \n",
      " 1   Enrollment Type Categorized  4084 non-null   int64  \n",
      " 2   Enrollment Months            4084 non-null   float64\n",
      " 3   HCC Score                    4084 non-null   int32  \n",
      " 4   Avg. LOS                     4084 non-null   float64\n",
      " 5   Diagnosis                    4084 non-null   int64  \n",
      " 6   # Total Claims               4084 non-null   int64  \n",
      " 7   # Hospital OP                4084 non-null   int64  \n",
      " 8   # All Physician OP           4084 non-null   int64  \n",
      " 9   # Inpatient                  4084 non-null   float64\n",
      " 10  # Short Term Stay Hospital   4084 non-null   int64  \n",
      " 11  # Long Term Stay Hospital    4084 non-null   int64  \n",
      " 12  # Rehabilitation Hospital    4084 non-null   int64  \n",
      " 13  # Psychiatric Hospital       4084 non-null   int64  \n",
      " 14  # Readmissions               4084 non-null   float64\n",
      " 15  % Readmissions               4084 non-null   float64\n",
      " 16  # ER                         4084 non-null   int64  \n",
      " 17  # ER Admissions              4084 non-null   int64  \n",
      " 18  # SNF                        4084 non-null   int64  \n",
      " 19  # Non Swing Bed SNF Claim    4084 non-null   int64  \n",
      " 20  # Swing Bed SNF Claim        4084 non-null   int64  \n",
      " 21  # Home Health                4084 non-null   int64  \n",
      " 22  # Hospice                    4084 non-null   int64  \n",
      " 23  # Labs                       4084 non-null   int64  \n",
      " 24  # Part B Labs                4084 non-null   float64\n",
      " 25  # Imaging                    4084 non-null   int64  \n",
      " 26  # Part B Imaging             4084 non-null   int64  \n",
      " 27  # Part B E&M                 4084 non-null   float64\n",
      " 28  # Part B Drugs               4084 non-null   int64  \n",
      " 29  # Part B Ambulance           4084 non-null   int64  \n",
      " 30  # Dialysis                   4084 non-null   int64  \n",
      " 31  # Part-B Dialysis            4084 non-null   float64\n",
      " 32  # Rx Claims                  4084 non-null   int64  \n",
      " 33  # DME                        4084 non-null   int64  \n",
      " 34  # Miscellaneous              4084 non-null   int64  \n",
      " 35  Race_encoded                 4084 non-null   int32  \n",
      " 36  Sex_encoded                  4084 non-null   int32  \n",
      " 37  State_encoded                4084 non-null   int32  \n",
      "dtypes: float64(8), int32(5), int64(25)\n",
      "memory usage: 1.1 MB\n"
     ]
    }
   ],
   "source": [
    "df_test.info()"
   ]
  },
  {
   "attachments": {},
   "cell_type": "markdown",
   "metadata": {},
   "source": [
    "# EXPORTING CLEANED AND DROPPED DATA SETS"
   ]
  },
  {
   "cell_type": "code",
   "execution_count": 10,
   "metadata": {},
   "outputs": [],
   "source": [
    "df_train.to_csv(r'cleanedData/train.csv',index=False)\n",
    "df_test.to_csv(r'cleanedData/test.csv',index=False)"
   ]
  }
 ],
 "metadata": {
  "kernelspec": {
   "display_name": "softec",
   "language": "python",
   "name": "python3"
  },
  "language_info": {
   "codemirror_mode": {
    "name": "ipython",
    "version": 3
   },
   "file_extension": ".py",
   "mimetype": "text/x-python",
   "name": "python",
   "nbconvert_exporter": "python",
   "pygments_lexer": "ipython3",
   "version": "3.8.16"
  },
  "orig_nbformat": 4
 },
 "nbformat": 4,
 "nbformat_minor": 2
}
