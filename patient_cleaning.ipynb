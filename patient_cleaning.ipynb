{
 "cells": [
  {
   "cell_type": "code",
   "execution_count": 1,
   "metadata": {},
   "outputs": [],
   "source": [
    "import pandas as pd\n",
    "import numpy as np"
   ]
  },
  {
   "cell_type": "code",
   "execution_count": 2,
   "metadata": {},
   "outputs": [],
   "source": [
    "df = pd.read_csv(r'Softec_Patient_Data_Testing_Features.csv')"
   ]
  },
  {
   "cell_type": "code",
   "execution_count": 3,
   "metadata": {},
   "outputs": [
    {
     "name": "stdout",
     "output_type": "stream",
     "text": [
      "<class 'pandas.core.frame.DataFrame'>\n",
      "RangeIndex: 4084 entries, 0 to 4083\n",
      "Data columns (total 41 columns):\n",
      " #   Column                       Non-Null Count  Dtype  \n",
      "---  ------                       --------------  -----  \n",
      " 0   ID                           4084 non-null   int64  \n",
      " 1   Age                          4084 non-null   int64  \n",
      " 2   Race                         4084 non-null   object \n",
      " 3   Sex                          4084 non-null   object \n",
      " 4   State                        4084 non-null   object \n",
      " 5   Zip Code                     4084 non-null   object \n",
      " 6   MSA                          4084 non-null   object \n",
      " 7   Enrollment Type Categorized  4084 non-null   int64  \n",
      " 8   Enrollment Months            4084 non-null   float64\n",
      " 9   HCC Score                    4071 non-null   float64\n",
      " 10  Avg. LOS                     4084 non-null   float64\n",
      " 11  Diagnosis                    4084 non-null   int64  \n",
      " 12  # Total Claims               4084 non-null   int64  \n",
      " 13  # Hospital OP                4084 non-null   int64  \n",
      " 14  # All Physician OP           4084 non-null   int64  \n",
      " 15  # Inpatient                  4045 non-null   float64\n",
      " 16  # Short Term Stay Hospital   4084 non-null   int64  \n",
      " 17  # Long Term Stay Hospital    4084 non-null   int64  \n",
      " 18  # Rehabilitation Hospital    4084 non-null   int64  \n",
      " 19  # Psychiatric Hospital       4084 non-null   int64  \n",
      " 20  # Readmissions               4018 non-null   float64\n",
      " 21  % Readmissions               4084 non-null   float64\n",
      " 22  # ER                         4084 non-null   int64  \n",
      " 23  # ER Admissions              4084 non-null   int64  \n",
      " 24  # SNF                        4084 non-null   int64  \n",
      " 25  # Non Swing Bed SNF Claim    4084 non-null   int64  \n",
      " 26  # Swing Bed SNF Claim        4084 non-null   int64  \n",
      " 27  # Home Health                4084 non-null   int64  \n",
      " 28  # Hospice                    4084 non-null   int64  \n",
      " 29  # Labs                       4084 non-null   int64  \n",
      " 30  # Part B Labs                4083 non-null   float64\n",
      " 31  # Imaging                    4084 non-null   int64  \n",
      " 32  # Part B Imaging             4084 non-null   int64  \n",
      " 33  # Part B E&M                 4083 non-null   float64\n",
      " 34  # Part B Drugs               4084 non-null   int64  \n",
      " 35  # Part B Ambulance           4084 non-null   int64  \n",
      " 36  # Dialysis                   4084 non-null   int64  \n",
      " 37  # Part-B Dialysis            3904 non-null   float64\n",
      " 38  # Rx Claims                  4084 non-null   int64  \n",
      " 39  # DME                        4084 non-null   int64  \n",
      " 40  # Miscellaneous              4084 non-null   int64  \n",
      "dtypes: float64(9), int64(27), object(5)\n",
      "memory usage: 1.3+ MB\n"
     ]
    }
   ],
   "source": [
    "df.info()"
   ]
  },
  {
   "cell_type": "code",
   "execution_count": 152,
   "metadata": {},
   "outputs": [],
   "source": [
    "df.drop(['MSA'],axis=1,inplace=True)"
   ]
  },
  {
   "cell_type": "code",
   "execution_count": 125,
   "metadata": {},
   "outputs": [
    {
     "data": {
      "text/plain": [
       "Female    8503\n",
       "Male      7825\n",
       "Name: Sex, dtype: int64"
      ]
     },
     "execution_count": 125,
     "metadata": {},
     "output_type": "execute_result"
    }
   ],
   "source": [
    "df['Sex'].value_counts()"
   ]
  },
  {
   "cell_type": "code",
   "execution_count": 82,
   "metadata": {},
   "outputs": [
    {
     "data": {
      "text/plain": [
       "White                    14094\n",
       "Black                     1261\n",
       "UnKnown                    343\n",
       "Asian                      252\n",
       "Other Race                 236\n",
       "Hispanic                   112\n",
       "North American Native       30\n",
       "Name: Race, dtype: int64"
      ]
     },
     "execution_count": 82,
     "metadata": {},
     "output_type": "execute_result"
    }
   ],
   "source": [
    "df['Race'].value_counts()"
   ]
  },
  {
   "cell_type": "code",
   "execution_count": 153,
   "metadata": {},
   "outputs": [],
   "source": [
    "df = pd.get_dummies(df,columns=['Race'])"
   ]
  },
  {
   "cell_type": "code",
   "execution_count": 4,
   "metadata": {},
   "outputs": [],
   "source": [
    "df['Sex'].replace({'Male':0,'Female':1},inplace=True)"
   ]
  },
  {
   "cell_type": "code",
   "execution_count": 66,
   "metadata": {},
   "outputs": [
    {
     "data": {
      "text/plain": [
       "0    12200\n",
       "1     4128\n",
       "Name: Y, dtype: int64"
      ]
     },
     "execution_count": 66,
     "metadata": {},
     "output_type": "execute_result"
    }
   ],
   "source": [
    "df['Y'].value_counts()"
   ]
  },
  {
   "cell_type": "code",
   "execution_count": 21,
   "metadata": {},
   "outputs": [
    {
     "data": {
      "text/plain": [
       "0.0    14154\n",
       "1.0     1576\n",
       "2.0      189\n",
       "3.0       22\n",
       "4.0        6\n",
       "Name: # Inpatient, dtype: int64"
      ]
     },
     "execution_count": 21,
     "metadata": {},
     "output_type": "execute_result"
    }
   ],
   "source": [
    "df['# Inpatient'].value_counts()"
   ]
  },
  {
   "cell_type": "code",
   "execution_count": 5,
   "metadata": {},
   "outputs": [],
   "source": [
    "df['# Inpatient'].fillna(0.0,inplace=True)"
   ]
  },
  {
   "cell_type": "code",
   "execution_count": 157,
   "metadata": {},
   "outputs": [
    {
     "data": {
      "text/plain": [
       "0.47    279\n",
       "0.49    271\n",
       "0.45    253\n",
       "0.61    243\n",
       "0.46    218\n",
       "       ... \n",
       "6.77      1\n",
       "4.42      1\n",
       "5.63      1\n",
       "6.62      1\n",
       "0.14      1\n",
       "Name: HCC Score, Length: 513, dtype: int64"
      ]
     },
     "execution_count": 157,
     "metadata": {},
     "output_type": "execute_result"
    }
   ],
   "source": [
    "df['HCC Score'].mean()\n",
    "df['HCC Score'].value_counts()"
   ]
  },
  {
   "cell_type": "code",
   "execution_count": 6,
   "metadata": {},
   "outputs": [],
   "source": [
    "\n",
    "df['HCC Score'].fillna(df['HCC Score'].mean(),inplace=True)\n"
   ]
  },
  {
   "cell_type": "code",
   "execution_count": 38,
   "metadata": {},
   "outputs": [
    {
     "data": {
      "text/plain": [
       "0.0    16204\n",
       "1.0      111\n",
       "2.0       12\n",
       "3.0        1\n",
       "Name: # Readmissions, dtype: int64"
      ]
     },
     "execution_count": 38,
     "metadata": {},
     "output_type": "execute_result"
    }
   ],
   "source": [
    "df['# Readmissions'].value_counts()"
   ]
  },
  {
   "cell_type": "code",
   "execution_count": 7,
   "metadata": {},
   "outputs": [],
   "source": [
    "df['# Readmissions'].fillna(0.0,inplace=True)"
   ]
  },
  {
   "cell_type": "code",
   "execution_count": 48,
   "metadata": {},
   "outputs": [
    {
     "data": {
      "text/plain": [
       "0    0.0\n",
       "Name: # Part B E&M, dtype: float64"
      ]
     },
     "execution_count": 48,
     "metadata": {},
     "output_type": "execute_result"
    }
   ],
   "source": [
    "\n",
    "df['# Part B E&M'].mode()"
   ]
  },
  {
   "cell_type": "code",
   "execution_count": 8,
   "metadata": {},
   "outputs": [],
   "source": [
    "df['# Part B E&M'].fillna(0.0,inplace=True)"
   ]
  },
  {
   "cell_type": "code",
   "execution_count": 45,
   "metadata": {},
   "outputs": [
    {
     "data": {
      "text/plain": [
       "4.468969771745836"
      ]
     },
     "execution_count": 45,
     "metadata": {},
     "output_type": "execute_result"
    }
   ],
   "source": [
    "df['# Part B Labs'].mean()"
   ]
  },
  {
   "cell_type": "code",
   "execution_count": 161,
   "metadata": {},
   "outputs": [
    {
     "data": {
      "text/plain": [
       "1.0      2452\n",
       "0.0      2379\n",
       "2.0      2108\n",
       "3.0      1843\n",
       "4.0      1509\n",
       "5.0      1268\n",
       "6.0      1003\n",
       "7.0       741\n",
       "8.0       569\n",
       "9.0       450\n",
       "10.0      329\n",
       "11.0      319\n",
       "12.0      256\n",
       "13.0      172\n",
       "14.0      139\n",
       "15.0      109\n",
       "16.0       89\n",
       "17.0       85\n",
       "18.0       60\n",
       "19.0       60\n",
       "20.0       36\n",
       "22.0       32\n",
       "23.0       26\n",
       "21.0       25\n",
       "24.0       25\n",
       "26.0       19\n",
       "25.0       17\n",
       "28.0       15\n",
       "27.0        9\n",
       "29.0        8\n",
       "31.0        8\n",
       "32.0        7\n",
       "34.0        6\n",
       "30.0        5\n",
       "37.0        4\n",
       "38.0        3\n",
       "33.0        3\n",
       "36.0        3\n",
       "48.0        2\n",
       "39.0        2\n",
       "46.0        2\n",
       "44.0        1\n",
       "49.0        1\n",
       "42.0        1\n",
       "47.0        1\n",
       "64.0        1\n",
       "43.0        1\n",
       "81.0        1\n",
       "53.0        1\n",
       "51.0        1\n",
       "75.0        1\n",
       "54.0        1\n",
       "35.0        1\n",
       "125.0       1\n",
       "Name: # Part B Labs, dtype: int64"
      ]
     },
     "execution_count": 161,
     "metadata": {},
     "output_type": "execute_result"
    }
   ],
   "source": [
    "df['# Part B Labs'].value_counts()"
   ]
  },
  {
   "cell_type": "code",
   "execution_count": 9,
   "metadata": {},
   "outputs": [],
   "source": [
    "df['# Part B Labs'].fillna(4.0,inplace=True)"
   ]
  },
  {
   "cell_type": "code",
   "execution_count": 163,
   "metadata": {},
   "outputs": [
    {
     "data": {
      "text/plain": [
       "0.0     15407\n",
       "12.0       67\n",
       "11.0       14\n",
       "13.0       11\n",
       "5.0         5\n",
       "10.0        5\n",
       "3.0         4\n",
       "9.0         3\n",
       "4.0         3\n",
       "14.0        3\n",
       "8.0         2\n",
       "16.0        2\n",
       "1.0         2\n",
       "2.0         2\n",
       "7.0         1\n",
       "17.0        1\n",
       "18.0        1\n",
       "Name: # Part-B Dialysis, dtype: int64"
      ]
     },
     "execution_count": 163,
     "metadata": {},
     "output_type": "execute_result"
    }
   ],
   "source": [
    "df['# Part-B Dialysis'].value_counts()"
   ]
  },
  {
   "cell_type": "code",
   "execution_count": 10,
   "metadata": {},
   "outputs": [],
   "source": [
    "df['# Part-B Dialysis'].fillna(0.0,inplace=True)"
   ]
  },
  {
   "cell_type": "code",
   "execution_count": 166,
   "metadata": {},
   "outputs": [
    {
     "data": {
      "text/plain": [
       "1    8503\n",
       "0    7825\n",
       "Name: Sex, dtype: int64"
      ]
     },
     "execution_count": 166,
     "metadata": {},
     "output_type": "execute_result"
    }
   ],
   "source": [
    "df['Sex'].value_counts()"
   ]
  },
  {
   "cell_type": "code",
   "execution_count": 167,
   "metadata": {},
   "outputs": [],
   "source": [
    "df.drop('State',axis=1,inplace=True)"
   ]
  },
  {
   "cell_type": "code",
   "execution_count": null,
   "metadata": {},
   "outputs": [],
   "source": []
  },
  {
   "cell_type": "code",
   "execution_count": null,
   "metadata": {},
   "outputs": [],
   "source": [
    "df['Y'] = np.where(df['TotalCost_Y_Actual'] > 11000, 1, 0)"
   ]
  },
  {
   "cell_type": "code",
   "execution_count": 169,
   "metadata": {},
   "outputs": [
    {
     "data": {
      "text/plain": [
       "0.47    279\n",
       "0.49    271\n",
       "0.45    253\n",
       "0.61    243\n",
       "0.46    218\n",
       "       ... \n",
       "6.77      1\n",
       "4.42      1\n",
       "5.63      1\n",
       "6.62      1\n",
       "0.14      1\n",
       "Name: HCC Score, Length: 514, dtype: int64"
      ]
     },
     "execution_count": 169,
     "metadata": {},
     "output_type": "execute_result"
    }
   ],
   "source": [
    "df['HCC Score'].value_counts()"
   ]
  },
  {
   "cell_type": "code",
   "execution_count": 12,
   "metadata": {},
   "outputs": [],
   "source": [
    "df['HCC Score'] = np.where(df['HCC Score'] < 1, 0, 1)"
   ]
  },
  {
   "cell_type": "code",
   "execution_count": 13,
   "metadata": {},
   "outputs": [],
   "source": [
    "df['Age'] = np.where(df['Age'] < 64, 0, 1)"
   ]
  },
  {
   "cell_type": "code",
   "execution_count": 14,
   "metadata": {},
   "outputs": [
    {
     "name": "stdout",
     "output_type": "stream",
     "text": [
      "# Total Claims\n",
      "# Hospital OP\n",
      "# All Physician OP\n",
      "# Inpatient\n",
      "# Short Term Stay Hospital\n",
      "# Long Term Stay Hospital\n",
      "# Rehabilitation Hospital\n",
      "# Psychiatric Hospital\n",
      "# Readmissions\n",
      "# ER\n",
      "# ER Admissions\n",
      "# SNF\n",
      "# Non Swing Bed SNF Claim\n",
      "# Swing Bed SNF Claim\n",
      "# Home Health\n",
      "# Hospice\n",
      "# Labs\n",
      "# Part B Labs\n",
      "# Imaging\n",
      "# Part B Imaging\n",
      "# Part B E&M\n",
      "# Part B Drugs\n",
      "# Part B Ambulance\n",
      "# Dialysis\n",
      "# Part-B Dialysis\n",
      "# Rx Claims\n",
      "# DME\n",
      "# Miscellaneous\n"
     ]
    }
   ],
   "source": [
    "feature_names = df.columns.values.tolist()\n",
    "for feature_name in feature_names:\n",
    "    if '#' == feature_name[0]: \n",
    "        print(feature_name)\n",
    "        df[feature_name] = np.where( ((df[feature_name] > 3) & (df[feature_name] <= 6)), 3, df[feature_name])\n",
    "        df[feature_name] = np.where( ( (df[feature_name] > 6) & (df[feature_name] <= 13) ), 5,df[feature_name])\n",
    "        df[feature_name] = np.where(df[feature_name] > 13, 7,df[feature_name])\n"
   ]
  },
  {
   "cell_type": "code",
   "execution_count": 15,
   "metadata": {},
   "outputs": [
    {
     "data": {
      "text/plain": [
       "0    1939\n",
       "1     908\n",
       "3     571\n",
       "2     506\n",
       "5     132\n",
       "7      28\n",
       "Name: # Part B Ambulance, dtype: int64"
      ]
     },
     "execution_count": 15,
     "metadata": {},
     "output_type": "execute_result"
    }
   ],
   "source": [
    "df['# Part B Ambulance'].value_counts()"
   ]
  },
  {
   "cell_type": "code",
   "execution_count": 174,
   "metadata": {},
   "outputs": [
    {
     "data": {
      "text/html": [
       "<div>\n",
       "<style scoped>\n",
       "    .dataframe tbody tr th:only-of-type {\n",
       "        vertical-align: middle;\n",
       "    }\n",
       "\n",
       "    .dataframe tbody tr th {\n",
       "        vertical-align: top;\n",
       "    }\n",
       "\n",
       "    .dataframe thead th {\n",
       "        text-align: right;\n",
       "    }\n",
       "</style>\n",
       "<table border=\"1\" class=\"dataframe\">\n",
       "  <thead>\n",
       "    <tr style=\"text-align: right;\">\n",
       "      <th></th>\n",
       "      <th>ID</th>\n",
       "      <th>Age</th>\n",
       "      <th>Sex</th>\n",
       "      <th>Zip Code</th>\n",
       "      <th>Enrollment Type Categorized</th>\n",
       "      <th>Enrollment Months</th>\n",
       "      <th>HCC Score</th>\n",
       "      <th>Avg. LOS</th>\n",
       "      <th>Diagnosis</th>\n",
       "      <th># Total Claims</th>\n",
       "      <th>...</th>\n",
       "      <th>TotalCost_Y_Actual</th>\n",
       "      <th>TotalCost_Y_Expected</th>\n",
       "      <th>Race_Asian</th>\n",
       "      <th>Race_Black</th>\n",
       "      <th>Race_Hispanic</th>\n",
       "      <th>Race_North American Native</th>\n",
       "      <th>Race_Other Race</th>\n",
       "      <th>Race_UnKnown</th>\n",
       "      <th>Race_White</th>\n",
       "      <th>Y</th>\n",
       "    </tr>\n",
       "  </thead>\n",
       "  <tbody>\n",
       "    <tr>\n",
       "      <th>count</th>\n",
       "      <td>1.632800e+04</td>\n",
       "      <td>16328.000000</td>\n",
       "      <td>16328.000000</td>\n",
       "      <td>16328.000000</td>\n",
       "      <td>16328.000000</td>\n",
       "      <td>16328.000000</td>\n",
       "      <td>16328.000000</td>\n",
       "      <td>16328.000000</td>\n",
       "      <td>16328.000000</td>\n",
       "      <td>16328.000000</td>\n",
       "      <td>...</td>\n",
       "      <td>16328.000000</td>\n",
       "      <td>16328.000000</td>\n",
       "      <td>16328.000000</td>\n",
       "      <td>16328.000000</td>\n",
       "      <td>16328.000000</td>\n",
       "      <td>16328.000000</td>\n",
       "      <td>16328.000000</td>\n",
       "      <td>16328.000000</td>\n",
       "      <td>16328.000000</td>\n",
       "      <td>16328.000000</td>\n",
       "    </tr>\n",
       "    <tr>\n",
       "      <th>mean</th>\n",
       "      <td>4.059022e+07</td>\n",
       "      <td>0.835497</td>\n",
       "      <td>0.520762</td>\n",
       "      <td>48602.027070</td>\n",
       "      <td>11.762494</td>\n",
       "      <td>11.884248</td>\n",
       "      <td>0.457986</td>\n",
       "      <td>2.039874</td>\n",
       "      <td>38.517455</td>\n",
       "      <td>6.989833</td>\n",
       "      <td>...</td>\n",
       "      <td>11787.786403</td>\n",
       "      <td>12568.342162</td>\n",
       "      <td>0.015434</td>\n",
       "      <td>0.077229</td>\n",
       "      <td>0.006859</td>\n",
       "      <td>0.001837</td>\n",
       "      <td>0.014454</td>\n",
       "      <td>0.021007</td>\n",
       "      <td>0.863180</td>\n",
       "      <td>0.252817</td>\n",
       "    </tr>\n",
       "    <tr>\n",
       "      <th>std</th>\n",
       "      <td>2.626024e+07</td>\n",
       "      <td>0.370742</td>\n",
       "      <td>0.499584</td>\n",
       "      <td>1903.882326</td>\n",
       "      <td>3.831102</td>\n",
       "      <td>0.833668</td>\n",
       "      <td>0.498247</td>\n",
       "      <td>7.454327</td>\n",
       "      <td>23.534057</td>\n",
       "      <td>0.155406</td>\n",
       "      <td>...</td>\n",
       "      <td>22936.327369</td>\n",
       "      <td>26118.160886</td>\n",
       "      <td>0.123273</td>\n",
       "      <td>0.266963</td>\n",
       "      <td>0.082539</td>\n",
       "      <td>0.042826</td>\n",
       "      <td>0.119355</td>\n",
       "      <td>0.143411</td>\n",
       "      <td>0.343668</td>\n",
       "      <td>0.434640</td>\n",
       "    </tr>\n",
       "    <tr>\n",
       "      <th>min</th>\n",
       "      <td>1.201900e+04</td>\n",
       "      <td>0.000000</td>\n",
       "      <td>0.000000</td>\n",
       "      <td>14211.000000</td>\n",
       "      <td>10.000000</td>\n",
       "      <td>0.999600</td>\n",
       "      <td>0.000000</td>\n",
       "      <td>0.000000</td>\n",
       "      <td>1.000000</td>\n",
       "      <td>3.000000</td>\n",
       "      <td>...</td>\n",
       "      <td>0.000000</td>\n",
       "      <td>0.000000</td>\n",
       "      <td>0.000000</td>\n",
       "      <td>0.000000</td>\n",
       "      <td>0.000000</td>\n",
       "      <td>0.000000</td>\n",
       "      <td>0.000000</td>\n",
       "      <td>0.000000</td>\n",
       "      <td>0.000000</td>\n",
       "      <td>0.000000</td>\n",
       "    </tr>\n",
       "    <tr>\n",
       "      <th>25%</th>\n",
       "      <td>1.837952e+07</td>\n",
       "      <td>1.000000</td>\n",
       "      <td>0.000000</td>\n",
       "      <td>48429.000000</td>\n",
       "      <td>10.000000</td>\n",
       "      <td>12.000000</td>\n",
       "      <td>0.000000</td>\n",
       "      <td>0.000000</td>\n",
       "      <td>21.000000</td>\n",
       "      <td>7.000000</td>\n",
       "      <td>...</td>\n",
       "      <td>1497.722500</td>\n",
       "      <td>1501.605000</td>\n",
       "      <td>0.000000</td>\n",
       "      <td>0.000000</td>\n",
       "      <td>0.000000</td>\n",
       "      <td>0.000000</td>\n",
       "      <td>0.000000</td>\n",
       "      <td>0.000000</td>\n",
       "      <td>1.000000</td>\n",
       "      <td>0.000000</td>\n",
       "    </tr>\n",
       "    <tr>\n",
       "      <th>50%</th>\n",
       "      <td>3.753202e+07</td>\n",
       "      <td>1.000000</td>\n",
       "      <td>1.000000</td>\n",
       "      <td>48708.000000</td>\n",
       "      <td>10.000000</td>\n",
       "      <td>12.000000</td>\n",
       "      <td>0.000000</td>\n",
       "      <td>0.000000</td>\n",
       "      <td>33.000000</td>\n",
       "      <td>7.000000</td>\n",
       "      <td>...</td>\n",
       "      <td>3609.965000</td>\n",
       "      <td>3624.115000</td>\n",
       "      <td>0.000000</td>\n",
       "      <td>0.000000</td>\n",
       "      <td>0.000000</td>\n",
       "      <td>0.000000</td>\n",
       "      <td>0.000000</td>\n",
       "      <td>0.000000</td>\n",
       "      <td>1.000000</td>\n",
       "      <td>0.000000</td>\n",
       "    </tr>\n",
       "    <tr>\n",
       "      <th>75%</th>\n",
       "      <td>6.089452e+07</td>\n",
       "      <td>1.000000</td>\n",
       "      <td>1.000000</td>\n",
       "      <td>48895.000000</td>\n",
       "      <td>10.000000</td>\n",
       "      <td>12.000000</td>\n",
       "      <td>1.000000</td>\n",
       "      <td>0.000000</td>\n",
       "      <td>50.000000</td>\n",
       "      <td>7.000000</td>\n",
       "      <td>...</td>\n",
       "      <td>11155.972500</td>\n",
       "      <td>11261.097500</td>\n",
       "      <td>0.000000</td>\n",
       "      <td>0.000000</td>\n",
       "      <td>0.000000</td>\n",
       "      <td>0.000000</td>\n",
       "      <td>0.000000</td>\n",
       "      <td>0.000000</td>\n",
       "      <td>1.000000</td>\n",
       "      <td>1.000000</td>\n",
       "    </tr>\n",
       "    <tr>\n",
       "      <th>max</th>\n",
       "      <td>9.726202e+07</td>\n",
       "      <td>1.000000</td>\n",
       "      <td>1.000000</td>\n",
       "      <td>93725.000000</td>\n",
       "      <td>31.000000</td>\n",
       "      <td>12.000000</td>\n",
       "      <td>1.000000</td>\n",
       "      <td>96.000000</td>\n",
       "      <td>203.000000</td>\n",
       "      <td>7.000000</td>\n",
       "      <td>...</td>\n",
       "      <td>481498.760000</td>\n",
       "      <td>524516.078700</td>\n",
       "      <td>1.000000</td>\n",
       "      <td>1.000000</td>\n",
       "      <td>1.000000</td>\n",
       "      <td>1.000000</td>\n",
       "      <td>1.000000</td>\n",
       "      <td>1.000000</td>\n",
       "      <td>1.000000</td>\n",
       "      <td>1.000000</td>\n",
       "    </tr>\n",
       "  </tbody>\n",
       "</table>\n",
       "<p>8 rows × 48 columns</p>\n",
       "</div>"
      ],
      "text/plain": [
       "                 ID           Age           Sex      Zip Code  \\\n",
       "count  1.632800e+04  16328.000000  16328.000000  16328.000000   \n",
       "mean   4.059022e+07      0.835497      0.520762  48602.027070   \n",
       "std    2.626024e+07      0.370742      0.499584   1903.882326   \n",
       "min    1.201900e+04      0.000000      0.000000  14211.000000   \n",
       "25%    1.837952e+07      1.000000      0.000000  48429.000000   \n",
       "50%    3.753202e+07      1.000000      1.000000  48708.000000   \n",
       "75%    6.089452e+07      1.000000      1.000000  48895.000000   \n",
       "max    9.726202e+07      1.000000      1.000000  93725.000000   \n",
       "\n",
       "       Enrollment Type Categorized  Enrollment Months     HCC Score  \\\n",
       "count                 16328.000000       16328.000000  16328.000000   \n",
       "mean                     11.762494          11.884248      0.457986   \n",
       "std                       3.831102           0.833668      0.498247   \n",
       "min                      10.000000           0.999600      0.000000   \n",
       "25%                      10.000000          12.000000      0.000000   \n",
       "50%                      10.000000          12.000000      0.000000   \n",
       "75%                      10.000000          12.000000      1.000000   \n",
       "max                      31.000000          12.000000      1.000000   \n",
       "\n",
       "           Avg. LOS     Diagnosis  # Total Claims  ...  TotalCost_Y_Actual  \\\n",
       "count  16328.000000  16328.000000    16328.000000  ...        16328.000000   \n",
       "mean       2.039874     38.517455        6.989833  ...        11787.786403   \n",
       "std        7.454327     23.534057        0.155406  ...        22936.327369   \n",
       "min        0.000000      1.000000        3.000000  ...            0.000000   \n",
       "25%        0.000000     21.000000        7.000000  ...         1497.722500   \n",
       "50%        0.000000     33.000000        7.000000  ...         3609.965000   \n",
       "75%        0.000000     50.000000        7.000000  ...        11155.972500   \n",
       "max       96.000000    203.000000        7.000000  ...       481498.760000   \n",
       "\n",
       "       TotalCost_Y_Expected    Race_Asian    Race_Black  Race_Hispanic  \\\n",
       "count          16328.000000  16328.000000  16328.000000   16328.000000   \n",
       "mean           12568.342162      0.015434      0.077229       0.006859   \n",
       "std            26118.160886      0.123273      0.266963       0.082539   \n",
       "min                0.000000      0.000000      0.000000       0.000000   \n",
       "25%             1501.605000      0.000000      0.000000       0.000000   \n",
       "50%             3624.115000      0.000000      0.000000       0.000000   \n",
       "75%            11261.097500      0.000000      0.000000       0.000000   \n",
       "max           524516.078700      1.000000      1.000000       1.000000   \n",
       "\n",
       "       Race_North American Native  Race_Other Race  Race_UnKnown  \\\n",
       "count                16328.000000     16328.000000  16328.000000   \n",
       "mean                     0.001837         0.014454      0.021007   \n",
       "std                      0.042826         0.119355      0.143411   \n",
       "min                      0.000000         0.000000      0.000000   \n",
       "25%                      0.000000         0.000000      0.000000   \n",
       "50%                      0.000000         0.000000      0.000000   \n",
       "75%                      0.000000         0.000000      0.000000   \n",
       "max                      1.000000         1.000000      1.000000   \n",
       "\n",
       "         Race_White             Y  \n",
       "count  16328.000000  16328.000000  \n",
       "mean       0.863180      0.252817  \n",
       "std        0.343668      0.434640  \n",
       "min        0.000000      0.000000  \n",
       "25%        1.000000      0.000000  \n",
       "50%        1.000000      0.000000  \n",
       "75%        1.000000      1.000000  \n",
       "max        1.000000      1.000000  \n",
       "\n",
       "[8 rows x 48 columns]"
      ]
     },
     "execution_count": 174,
     "metadata": {},
     "output_type": "execute_result"
    }
   ],
   "source": [
    "df.describe()"
   ]
  },
  {
   "cell_type": "code",
   "execution_count": 16,
   "metadata": {},
   "outputs": [],
   "source": [
    "df.to_csv(r'Softec_Patient_Data_Testing_Features_cleaned.csv', index=False)"
   ]
  },
  {
   "cell_type": "code",
   "execution_count": 111,
   "metadata": {},
   "outputs": [],
   "source": [
    "df_des.to_csv(r'Softec_Patient_Data_Training_Kaggle_V1_desc.csv', index=False)"
   ]
  },
  {
   "cell_type": "code",
   "execution_count": null,
   "metadata": {},
   "outputs": [],
   "source": []
  }
 ],
 "metadata": {
  "kernelspec": {
   "display_name": "Python 3",
   "language": "python",
   "name": "python3"
  },
  "language_info": {
   "codemirror_mode": {
    "name": "ipython",
    "version": 3
   },
   "file_extension": ".py",
   "mimetype": "text/x-python",
   "name": "python",
   "nbconvert_exporter": "python",
   "pygments_lexer": "ipython3",
   "version": "3.8.16"
  },
  "orig_nbformat": 4
 },
 "nbformat": 4,
 "nbformat_minor": 2
}
