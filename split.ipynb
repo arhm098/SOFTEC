{
 "cells": [
  {
   "cell_type": "code",
   "execution_count": 1,
   "metadata": {},
   "outputs": [],
   "source": [
    "import pandas as pd\n"
   ]
  },
  {
   "cell_type": "code",
   "execution_count": 16,
   "metadata": {},
   "outputs": [],
   "source": [
    "df = pd.read_csv(r'Softec_Patient_Data_Training_Kaggle_V1_cleaned_final_v1.csv')"
   ]
  },
  {
   "cell_type": "code",
   "execution_count": 17,
   "metadata": {},
   "outputs": [],
   "source": [
    "df_test_ID = pd.read_csv(r'high-cost-diabetes-patients-prediction\\Softec_Patient_Data_Testing_Kaggle_V1.csv')"
   ]
  },
  {
   "cell_type": "code",
   "execution_count": 5,
   "metadata": {},
   "outputs": [
    {
     "name": "stdout",
     "output_type": "stream",
     "text": [
      "<class 'pandas.core.frame.DataFrame'>\n",
      "RangeIndex: 16328 entries, 0 to 16327\n",
      "Data columns (total 64 columns):\n",
      " #   Column                                   Non-Null Count  Dtype  \n",
      "---  ------                                   --------------  -----  \n",
      " 0   ID                                       16328 non-null  int64  \n",
      " 1   Age                                      16328 non-null  int64  \n",
      " 2   Sex                                      16328 non-null  int64  \n",
      " 3   Zip Code                                 16328 non-null  int64  \n",
      " 4   Enrollment Type Categorized              16328 non-null  int64  \n",
      " 5   Enrollment Months                        16328 non-null  float64\n",
      " 6   HCC Score                                16328 non-null  int64  \n",
      " 7   Avg. LOS                                 16328 non-null  float64\n",
      " 8   Diagnosis                                16328 non-null  int64  \n",
      " 9   # Total Claims                           16328 non-null  int64  \n",
      " 10  # Hospital OP                            16328 non-null  int64  \n",
      " 11  # All Physician OP                       16328 non-null  int64  \n",
      " 12  # Inpatient                              16328 non-null  float64\n",
      " 13  # Short Term Stay Hospital               16328 non-null  int64  \n",
      " 14  # Long Term Stay Hospital                16328 non-null  int64  \n",
      " 15  # Rehabilitation Hospital                16328 non-null  int64  \n",
      " 16  # Psychiatric Hospital                   16328 non-null  int64  \n",
      " 17  # Readmissions                           16328 non-null  float64\n",
      " 18  % Readmissions                           16328 non-null  float64\n",
      " 19  # ER                                     16328 non-null  int64  \n",
      " 20  # ER Admissions                          16328 non-null  int64  \n",
      " 21  # SNF                                    16328 non-null  int64  \n",
      " 22  # Non Swing Bed SNF Claim                16328 non-null  int64  \n",
      " 23  # Swing Bed SNF Claim                    16328 non-null  int64  \n",
      " 24  # Home Health                            16328 non-null  int64  \n",
      " 25  # Hospice                                16328 non-null  int64  \n",
      " 26  # Labs                                   16328 non-null  int64  \n",
      " 27  # Part B Labs                            16328 non-null  float64\n",
      " 28  # Imaging                                16328 non-null  int64  \n",
      " 29  # Part B Imaging                         16328 non-null  int64  \n",
      " 30  # Part B E&M                             16328 non-null  float64\n",
      " 31  # Part B Drugs                           16328 non-null  int64  \n",
      " 32  # Part B Ambulance                       16328 non-null  int64  \n",
      " 33  # Dialysis                               16328 non-null  int64  \n",
      " 34  # Part-B Dialysis                        16328 non-null  float64\n",
      " 35  # Rx Claims                              16328 non-null  int64  \n",
      " 36  # DME                                    16328 non-null  int64  \n",
      " 37  # Miscellaneous                          16328 non-null  int64  \n",
      " 38  TotalCost_Y_Actual                       16328 non-null  float64\n",
      " 39  TotalCost_Y_Expected                     16328 non-null  float64\n",
      " 40  Race_Asian                               16328 non-null  int64  \n",
      " 41  Race_Black                               16328 non-null  int64  \n",
      " 42  Race_Hispanic                            16328 non-null  int64  \n",
      " 43  Race_North American Native               16328 non-null  int64  \n",
      " 44  Race_Other Race                          16328 non-null  int64  \n",
      " 45  Race_UnKnown                             16328 non-null  int64  \n",
      " 46  Race_White                               16328 non-null  int64  \n",
      " 47  Y                                        16328 non-null  int64  \n",
      " 48  dapagliflozin                            16328 non-null  int64  \n",
      " 49  exenatide                                16328 non-null  int64  \n",
      " 50  glimepiride                              16328 non-null  int64  \n",
      " 51  glyburide and metformin hydrochloride    16328 non-null  int64  \n",
      " 52  insulin                                  16328 non-null  int64  \n",
      " 53  metformin hydrochloride                  16328 non-null  int64  \n",
      " 54  pioglitazone                             16328 non-null  int64  \n",
      " 55  sitagliptin and metformin hydrochloride  16328 non-null  int64  \n",
      " 56  Avg ADI                                  16328 non-null  float64\n",
      " 57  Max ADI                                  16328 non-null  float64\n",
      " 58  Min ADI                                  16328 non-null  float64\n",
      " 59  SVI1                                     16328 non-null  float64\n",
      " 60  SVI3                                     16328 non-null  float64\n",
      " 61  SVI4                                     16328 non-null  float64\n",
      " 62  SVI                                      16328 non-null  float64\n",
      " 63  MDI                                      16328 non-null  float64\n",
      "dtypes: float64(18), int64(46)\n",
      "memory usage: 8.0 MB\n"
     ]
    }
   ],
   "source": [
    "df.info()"
   ]
  },
  {
   "cell_type": "code",
   "execution_count": 18,
   "metadata": {},
   "outputs": [
    {
     "name": "stdout",
     "output_type": "stream",
     "text": [
      "<class 'pandas.core.frame.DataFrame'>\n",
      "RangeIndex: 4084 entries, 0 to 4083\n",
      "Data columns (total 2 columns):\n",
      " #   Column      Non-Null Count  Dtype  \n",
      "---  ------      --------------  -----  \n",
      " 0   ID          4084 non-null   int64  \n",
      " 1   Prediction  0 non-null      float64\n",
      "dtypes: float64(1), int64(1)\n",
      "memory usage: 63.9 KB\n"
     ]
    }
   ],
   "source": [
    "df_test_ID.info()"
   ]
  },
  {
   "cell_type": "code",
   "execution_count": 19,
   "metadata": {},
   "outputs": [],
   "source": [
    "df_test= df_test_ID.merge(df,on=\"ID\",how='left')"
   ]
  },
  {
   "cell_type": "code",
   "execution_count": 20,
   "metadata": {},
   "outputs": [
    {
     "name": "stdout",
     "output_type": "stream",
     "text": [
      "<class 'pandas.core.frame.DataFrame'>\n",
      "Int64Index: 4084 entries, 0 to 4083\n",
      "Data columns (total 65 columns):\n",
      " #   Column                                   Non-Null Count  Dtype  \n",
      "---  ------                                   --------------  -----  \n",
      " 0   ID                                       4084 non-null   int64  \n",
      " 1   Prediction                               0 non-null      float64\n",
      " 2   Age                                      1 non-null      float64\n",
      " 3   Sex                                      1 non-null      float64\n",
      " 4   Zip Code                                 1 non-null      float64\n",
      " 5   Enrollment Type Categorized              1 non-null      float64\n",
      " 6   Enrollment Months                        1 non-null      float64\n",
      " 7   HCC Score                                1 non-null      float64\n",
      " 8   Avg. LOS                                 1 non-null      float64\n",
      " 9   Diagnosis                                1 non-null      float64\n",
      " 10  # Total Claims                           1 non-null      float64\n",
      " 11  # Hospital OP                            1 non-null      float64\n",
      " 12  # All Physician OP                       1 non-null      float64\n",
      " 13  # Inpatient                              1 non-null      float64\n",
      " 14  # Short Term Stay Hospital               1 non-null      float64\n",
      " 15  # Long Term Stay Hospital                1 non-null      float64\n",
      " 16  # Rehabilitation Hospital                1 non-null      float64\n",
      " 17  # Psychiatric Hospital                   1 non-null      float64\n",
      " 18  # Readmissions                           1 non-null      float64\n",
      " 19  % Readmissions                           1 non-null      float64\n",
      " 20  # ER                                     1 non-null      float64\n",
      " 21  # ER Admissions                          1 non-null      float64\n",
      " 22  # SNF                                    1 non-null      float64\n",
      " 23  # Non Swing Bed SNF Claim                1 non-null      float64\n",
      " 24  # Swing Bed SNF Claim                    1 non-null      float64\n",
      " 25  # Home Health                            1 non-null      float64\n",
      " 26  # Hospice                                1 non-null      float64\n",
      " 27  # Labs                                   1 non-null      float64\n",
      " 28  # Part B Labs                            1 non-null      float64\n",
      " 29  # Imaging                                1 non-null      float64\n",
      " 30  # Part B Imaging                         1 non-null      float64\n",
      " 31  # Part B E&M                             1 non-null      float64\n",
      " 32  # Part B Drugs                           1 non-null      float64\n",
      " 33  # Part B Ambulance                       1 non-null      float64\n",
      " 34  # Dialysis                               1 non-null      float64\n",
      " 35  # Part-B Dialysis                        1 non-null      float64\n",
      " 36  # Rx Claims                              1 non-null      float64\n",
      " 37  # DME                                    1 non-null      float64\n",
      " 38  # Miscellaneous                          1 non-null      float64\n",
      " 39  TotalCost_Y_Actual                       1 non-null      float64\n",
      " 40  TotalCost_Y_Expected                     1 non-null      float64\n",
      " 41  Race_Asian                               1 non-null      float64\n",
      " 42  Race_Black                               1 non-null      float64\n",
      " 43  Race_Hispanic                            1 non-null      float64\n",
      " 44  Race_North American Native               1 non-null      float64\n",
      " 45  Race_Other Race                          1 non-null      float64\n",
      " 46  Race_UnKnown                             1 non-null      float64\n",
      " 47  Race_White                               1 non-null      float64\n",
      " 48  Y                                        1 non-null      float64\n",
      " 49  dapagliflozin                            1 non-null      float64\n",
      " 50  exenatide                                1 non-null      float64\n",
      " 51  glimepiride                              1 non-null      float64\n",
      " 52  glyburide and metformin hydrochloride    1 non-null      float64\n",
      " 53  insulin                                  1 non-null      float64\n",
      " 54  metformin hydrochloride                  1 non-null      float64\n",
      " 55  pioglitazone                             1 non-null      float64\n",
      " 56  sitagliptin and metformin hydrochloride  1 non-null      float64\n",
      " 57  Avg ADI                                  1 non-null      float64\n",
      " 58  Max ADI                                  1 non-null      float64\n",
      " 59  Min ADI                                  1 non-null      float64\n",
      " 60  SVI1                                     1 non-null      float64\n",
      " 61  SVI3                                     1 non-null      float64\n",
      " 62  SVI4                                     1 non-null      float64\n",
      " 63  SVI                                      1 non-null      float64\n",
      " 64  MDI                                      1 non-null      float64\n",
      "dtypes: float64(64), int64(1)\n",
      "memory usage: 2.1 MB\n"
     ]
    }
   ],
   "source": [
    "df_test.info()"
   ]
  },
  {
   "cell_type": "code",
   "execution_count": null,
   "metadata": {},
   "outputs": [],
   "source": [
    "df_test = df[df['ID'] == df_test_ID['ID']]"
   ]
  }
 ],
 "metadata": {
  "kernelspec": {
   "display_name": "Python 3",
   "language": "python",
   "name": "python3"
  },
  "language_info": {
   "codemirror_mode": {
    "name": "ipython",
    "version": 3
   },
   "file_extension": ".py",
   "mimetype": "text/x-python",
   "name": "python",
   "nbconvert_exporter": "python",
   "pygments_lexer": "ipython3",
   "version": "3.8.16"
  },
  "orig_nbformat": 4
 },
 "nbformat": 4,
 "nbformat_minor": 2
}
